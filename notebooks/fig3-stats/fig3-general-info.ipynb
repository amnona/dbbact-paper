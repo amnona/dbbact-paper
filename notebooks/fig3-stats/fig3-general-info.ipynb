{
 "cells": [
  {
   "cell_type": "code",
   "execution_count": 1,
   "metadata": {},
   "outputs": [
    {
     "name": "stdout",
     "output_type": "stream",
     "text": [
      "failed to load logging config file\n"
     ]
    }
   ],
   "source": [
    "import calour as ca\n",
    "import calour_utils as cu"
   ]
  },
  {
   "cell_type": "code",
   "execution_count": 2,
   "metadata": {},
   "outputs": [
    {
     "data": {
      "text/plain": [
       "'/Users/amnon/dropbox2/Dropbox/dbbact/figures-new/fig3-stats'"
      ]
     },
     "execution_count": 2,
     "metadata": {},
     "output_type": "execute_result"
    }
   ],
   "source": [
    "pwd"
   ]
  },
  {
   "cell_type": "code",
   "execution_count": 3,
   "metadata": {},
   "outputs": [],
   "source": [
    "ca.set_log_level(11)"
   ]
  },
  {
   "cell_type": "code",
   "execution_count": 4,
   "metadata": {},
   "outputs": [],
   "source": [
    "%matplotlib inline"
   ]
  },
  {
   "cell_type": "code",
   "execution_count": 6,
   "metadata": {},
   "outputs": [
    {
     "name": "stdout",
     "output_type": "stream",
     "text": [
      "creating logger\n"
     ]
    }
   ],
   "source": [
    "db=ca.database._get_database_class('dbbact')"
   ]
  },
  {
   "cell_type": "code",
   "execution_count": 7,
   "metadata": {},
   "outputs": [],
   "source": [
    "res=db.db._get('ontology/get_annotations',{'term':'entity','get_children':'true'},param_json=False)"
   ]
  },
  {
   "cell_type": "code",
   "execution_count": 8,
   "metadata": {},
   "outputs": [],
   "source": [
    "res=res.json()['annotations']"
   ]
  },
  {
   "cell_type": "code",
   "execution_count": 9,
   "metadata": {},
   "outputs": [
    {
     "data": {
      "text/plain": [
       "6021"
      ]
     },
     "execution_count": 9,
     "metadata": {},
     "output_type": "execute_result"
    }
   ],
   "source": [
    "len(res)"
   ]
  },
  {
   "cell_type": "code",
   "execution_count": null,
   "metadata": {
    "collapsed": true,
    "jupyter": {
     "outputs_hidden": true
    }
   },
   "outputs": [],
   "source": []
  },
  {
   "cell_type": "code",
   "execution_count": null,
   "metadata": {
    "collapsed": true,
    "jupyter": {
     "outputs_hidden": true
    }
   },
   "outputs": [],
   "source": []
  },
  {
   "cell_type": "code",
   "execution_count": null,
   "metadata": {
    "collapsed": true,
    "jupyter": {
     "outputs_hidden": true
    }
   },
   "outputs": [],
   "source": []
  },
  {
   "cell_type": "code",
   "execution_count": 10,
   "metadata": {},
   "outputs": [],
   "source": [
    "def get_term_stats(terms):\n",
    "    allres=[]\n",
    "    for cterm in terms:\n",
    "        res=db.db._get('ontology/get_annotations',{'term':cterm, 'get_children': 'true'},param_json=False)\n",
    "        res=res.json()['annotations']\n",
    "        allres.extend(res)\n",
    "    allanno=set([x['annotationid'] for x in allres])\n",
    "#     print('total annotations: %d' % len(allres))\n",
    "    allexp=set([x['expid'] for x in allres])\n",
    "#     print('total experiments: %d' % len(allexp))\n",
    "    return len(allres), len(allexp)"
   ]
  },
  {
   "cell_type": "code",
   "execution_count": 11,
   "metadata": {},
   "outputs": [],
   "source": [
    "import numpy as np\n",
    "import matplotlib.pyplot as plt\n",
    "def plot_term_coverage(terms):\n",
    "    nanno=[]\n",
    "    nexp=[]\n",
    "    tlist=[]\n",
    "    for cterms in terms:\n",
    "        tterms = []\n",
    "        for ccterm in cterms:\n",
    "            ccterm=ccterm.split('*')[-1]\n",
    "            tterms.append(ccterm)\n",
    "        cnanno, cnexp = get_term_stats(tterms)\n",
    "        nanno.append(cnanno)\n",
    "        nexp.append(cnexp)\n",
    "        aterm = cterms[0]\n",
    "        nstars = aterm.count('*')\n",
    "        aterm = aterm.split('*')[-1]\n",
    "        aterm = aterm + '---' * nstars\n",
    "        tlist.append(aterm)\n",
    "    plt.figure()\n",
    "    plt.barh(np.arange(len(tlist)),nexp,tick_label=tlist)\n",
    "    plt.xscale('log')\n",
    "    plt.title('nexp')\n",
    "    plt.figure()\n",
    "    plt.barh(np.arange(len(tlist)),nanno,tick_label=tlist)\n",
    "    plt.xscale('log')\n",
    "    plt.title('nanno')"
   ]
  },
  {
   "cell_type": "code",
   "execution_count": 12,
   "metadata": {},
   "outputs": [
    {
     "data": {
      "text/plain": [
       "(69, 7)"
      ]
     },
     "execution_count": 12,
     "metadata": {},
     "output_type": "execute_result"
    }
   ],
   "source": [
    "get_term_stats(['plant'])"
   ]
  },
  {
   "cell_type": "code",
   "execution_count": 13,
   "metadata": {},
   "outputs": [
    {
     "data": {
      "text/plain": [
       "(588, 80)"
      ]
     },
     "execution_count": 13,
     "metadata": {},
     "output_type": "execute_result"
    }
   ],
   "source": [
    "get_term_stats(['soil','rhyzosphere'])"
   ]
  },
  {
   "cell_type": "code",
   "execution_count": 14,
   "metadata": {},
   "outputs": [
    {
     "data": {
      "text/plain": [
       "(0, 0)"
      ]
     },
     "execution_count": 14,
     "metadata": {},
     "output_type": "execute_result"
    }
   ],
   "source": [
    "get_term_stats('feces')"
   ]
  },
  {
   "cell_type": "code",
   "execution_count": 15,
   "metadata": {},
   "outputs": [
    {
     "data": {
      "text/plain": [
       "(12, 1)"
      ]
     },
     "execution_count": 15,
     "metadata": {},
     "output_type": "execute_result"
    }
   ],
   "source": [
    "get_term_stats('immaterial entity')"
   ]
  },
  {
   "cell_type": "code",
   "execution_count": 16,
   "metadata": {},
   "outputs": [
    {
     "data": {
      "text/plain": [
       "(109, 16)"
      ]
     },
     "execution_count": 16,
     "metadata": {},
     "output_type": "execute_result"
    }
   ],
   "source": [
    "get_term_stats(['sediemnt', 'marine sediment'])"
   ]
  },
  {
   "cell_type": "code",
   "execution_count": 17,
   "metadata": {},
   "outputs": [
    {
     "data": {
      "text/plain": [
       "(539, 72)"
      ]
     },
     "execution_count": 17,
     "metadata": {},
     "output_type": "execute_result"
    }
   ],
   "source": [
    "get_term_stats(['water','salt water'])"
   ]
  },
  {
   "cell_type": "code",
   "execution_count": 18,
   "metadata": {},
   "outputs": [
    {
     "data": {
      "text/plain": [
       "(367, 35)"
      ]
     },
     "execution_count": 18,
     "metadata": {},
     "output_type": "execute_result"
    }
   ],
   "source": [
    "get_term_stats(['fresh water','river','lake'])"
   ]
  },
  {
   "cell_type": "code",
   "execution_count": 19,
   "metadata": {},
   "outputs": [
    {
     "data": {
      "text/plain": [
       "(6013, 756)"
      ]
     },
     "execution_count": 19,
     "metadata": {},
     "output_type": "execute_result"
    }
   ],
   "source": [
    "get_term_stats(['material entity'])"
   ]
  },
  {
   "cell_type": "code",
   "execution_count": 20,
   "metadata": {},
   "outputs": [
    {
     "data": {
      "text/plain": [
       "(274, 36)"
      ]
     },
     "execution_count": 20,
     "metadata": {},
     "output_type": "execute_result"
    }
   ],
   "source": [
    "get_term_stats(['environmental system'])"
   ]
  },
  {
   "cell_type": "code",
   "execution_count": 21,
   "metadata": {},
   "outputs": [
    {
     "data": {
      "text/plain": [
       "(123, 19)"
      ]
     },
     "execution_count": 21,
     "metadata": {},
     "output_type": "execute_result"
    }
   ],
   "source": [
    "get_term_stats(['part of plant'])"
   ]
  },
  {
   "cell_type": "code",
   "execution_count": 22,
   "metadata": {},
   "outputs": [
    {
     "data": {
      "text/plain": [
       "(4721, 619)"
      ]
     },
     "execution_count": 22,
     "metadata": {},
     "output_type": "execute_result"
    }
   ],
   "source": [
    "get_term_stats(['organism'])"
   ]
  },
  {
   "cell_type": "code",
   "execution_count": 23,
   "metadata": {},
   "outputs": [
    {
     "data": {
      "text/plain": [
       "(388, 76)"
      ]
     },
     "execution_count": 23,
     "metadata": {},
     "output_type": "execute_result"
    }
   ],
   "source": [
    "get_term_stats(['chemical entity'])"
   ]
  },
  {
   "cell_type": "code",
   "execution_count": 24,
   "metadata": {},
   "outputs": [
    {
     "data": {
      "text/plain": [
       "(0, 0)"
      ]
     },
     "execution_count": 24,
     "metadata": {},
     "output_type": "execute_result"
    }
   ],
   "source": [
    "get_term_stats(['food product'])"
   ]
  },
  {
   "cell_type": "code",
   "execution_count": 25,
   "metadata": {},
   "outputs": [
    {
     "data": {
      "text/plain": [
       "(4, 1)"
      ]
     },
     "execution_count": 25,
     "metadata": {},
     "output_type": "execute_result"
    }
   ],
   "source": [
    "get_term_stats(['anatomical cluster'])"
   ]
  },
  {
   "cell_type": "code",
   "execution_count": 26,
   "metadata": {},
   "outputs": [
    {
     "data": {
      "text/plain": [
       "(3, 1)"
      ]
     },
     "execution_count": 26,
     "metadata": {},
     "output_type": "execute_result"
    }
   ],
   "source": [
    "get_term_stats(['environmental feature'])"
   ]
  },
  {
   "cell_type": "code",
   "execution_count": 27,
   "metadata": {},
   "outputs": [
    {
     "data": {
      "image/png": "[encoded data removed]",
      "text/plain": [
       "<Figure size 432x288 with 1 Axes>"
      ]
     },
     "metadata": {
      "needs_background": "light"
     },
     "output_type": "display_data"
    },
    {
     "data": {
      "image/png": "[encoded data removed]",
      "text/plain": [
       "<Figure size 432x288 with 1 Axes>"
      ]
     },
     "metadata": {
      "needs_background": "light"
     },
     "output_type": "display_data"
    }
   ],
   "source": [
    "plot_term_coverage([['disease'],['bos taurus','cow'],['soil'],['rhizosphere'],['fresh water','river','lake'],['sediment'],['feces'],['saliva'],['skin'],['human associated habitat']])"
   ]
  },
  {
   "cell_type": "code",
   "execution_count": 28,
   "metadata": {},
   "outputs": [
    {
     "data": {
      "image/png": "[encoded data removed]",
      "text/plain": [
       "<Figure size 432x288 with 1 Axes>"
      ]
     },
     "metadata": {
      "needs_background": "light"
     },
     "output_type": "display_data"
    },
    {
     "data": {
      "image/png": "[encoded data removed]",
      "text/plain": [
       "<Figure size 432x288 with 1 Axes>"
      ]
     },
     "metadata": {
      "needs_background": "light"
     },
     "output_type": "display_data"
    }
   ],
   "source": [
    "plot_term_coverage([['environmental feature'],['food product'],['sediment'],['soil'],['water']])"
   ]
  },
  {
   "cell_type": "markdown",
   "metadata": {},
   "source": [
    "# ENVO"
   ]
  },
  {
   "cell_type": "code",
   "execution_count": 29,
   "metadata": {},
   "outputs": [
    {
     "data": {
      "text/plain": [
       "(3527, 514)"
      ]
     },
     "execution_count": 29,
     "metadata": {},
     "output_type": "execute_result"
    }
   ],
   "source": [
    "get_term_stats(['anatomical entity'])"
   ]
  },
  {
   "cell_type": "code",
   "execution_count": 30,
   "metadata": {},
   "outputs": [
    {
     "data": {
      "text/plain": [
       "(664, 107)"
      ]
     },
     "execution_count": 30,
     "metadata": {},
     "output_type": "execute_result"
    }
   ],
   "source": [
    "get_term_stats(['immaterial entity'])"
   ]
  },
  {
   "cell_type": "code",
   "execution_count": 31,
   "metadata": {},
   "outputs": [
    {
     "data": {
      "text/plain": [
       "(30, 9)"
      ]
     },
     "execution_count": 31,
     "metadata": {},
     "output_type": "execute_result"
    }
   ],
   "source": [
    "get_term_stats(['disease by infectious agent'])"
   ]
  },
  {
   "cell_type": "code",
   "execution_count": 32,
   "metadata": {},
   "outputs": [
    {
     "data": {
      "text/plain": [
       "(299, 86)"
      ]
     },
     "execution_count": 32,
     "metadata": {},
     "output_type": "execute_result"
    }
   ],
   "source": [
    "get_term_stats(['disease of anatomical entity'])"
   ]
  },
  {
   "cell_type": "code",
   "execution_count": 33,
   "metadata": {},
   "outputs": [],
   "source": [
    "res=db.db._get('ontology/get_parents',{'term':'rhizosphere'},param_json=False)"
   ]
  },
  {
   "cell_type": "code",
   "execution_count": 34,
   "metadata": {},
   "outputs": [
    {
     "data": {
      "text/plain": [
       "b'{\"parents\": [\"continuant\", \"rhizosphere\", \"site\", \"independent continuant\", \"entity\", \"immaterial entity\", \"na\", \"environmental zone\"]}'"
      ]
     },
     "execution_count": 34,
     "metadata": {},
     "output_type": "execute_result"
    }
   ],
   "source": [
    "res.content"
   ]
  },
  {
   "cell_type": "code",
   "execution_count": 35,
   "metadata": {},
   "outputs": [],
   "source": [
    "res=db.db._get('ontology/get_term_children',{'term':'immaterial entity'},param_json=True)"
   ]
  },
  {
   "cell_type": "code",
   "execution_count": 36,
   "metadata": {},
   "outputs": [
    {
     "data": {
      "text/plain": [
       "b'{\"terms\": {\"134147\": \"carr\", \"134152\": \"saline wetland\", \"135177\": \"area of rocky shore\", \"135693\": \"planetary subsurface zone\", \"135694\": \"continental subsurface zone\", \"135187\": \"disturbed area\", \"135189\": \"roadside\", \"135702\": \"lichen woodland\", \"134170\": \"prairie\", \"136231\": \"area of pack ice\", \"136232\": \"area of sea ice\", \"136233\": \"area of drift ice\", \"136256\": \"two-dimensional fiat ice surface\", \"136257\": \"two-dimensional fiat water ice surface\", \"1089\": \"rhizosphere\", \"134211\": \"sea coast\", \"134208\": \"scrubland area\", \"134209\": \"chaparral area\", \"75\": \"peatland\", \"136268\": \"area of seasonal sea ice\", \"134223\": \"intertidal zone\", \"134224\": \"terrestrial environmental zone\", \"136277\": \"terrestrial ecoregion\", \"602\": \"city\", \"134235\": \"vadose zone\", \"134236\": \"phreatic zone\", \"96\": \"populated place\", \"108\": \"farm\", \"135791\": \"oceanic subsurface zone\", \"134267\": \"area of protected biodiversity\", \"134268\": \"protected area\", \"134271\": \"area of national forest\", \"134272\": \"site of special scientific interest\", \"134273\": \"marine park area\", \"134274\": \"area designated as a nature reserve\", \"134275\": \"national wildlife refuge\", \"134276\": \"wildlife management area\", \"134277\": \"ramsar site\", \"134278\": \"area designated as a national nature reserve\", \"134279\": \"iucn national park\", \"134280\": \"area protected according to iucn guidelines\", \"134288\": \"world heritage site\", \"134289\": \"biosphere reserve\", \"149\": \"tundra\", \"134299\": \"intermittent wetland\", \"135838\": \"tectonic plate boundary\", \"135839\": \"divergent plate boundary\", \"135840\": \"convergent plate boundary\", \"135841\": \"transform plate boundary\", \"135843\": \"rift zone\", \"134844\": \"sea grass bed\", \"134851\": \"marine anoxic zone\", \"134852\": \"marine environmental zone\", \"134859\": \"marine oligotrophic desert\", \"210\": \"coast\", \"135898\": \"iucn strict nature reserve\", \"135899\": \"iucn wilderness area\", \"136413\": \"glacial ice ablation zone\", \"135902\": \"iucn natural monument or feature\", \"135903\": \"iucn habitat/species management area\", \"135397\": \"slum\", \"135910\": \"sacred site\", \"135909\": \"iucn protected landscape/seascape\", \"135409\": \"area of open water\", \"135932\": \"magnetosphere\", \"134909\": \"marine supra-littoral zone\", \"134910\": \"marine littoral zone\", \"134911\": \"littoral zone\", \"134912\": \"marine sub-littoral zone\", \"135935\": \"induced magnetosphere\", \"135936\": \"intrinsic magnetosphere\", \"135941\": \"ranch\", \"135430\": \"lake coast\", \"135942\": \"swamp area\", \"134406\": \"blanket bog\", \"271\": \"fen\", \"135956\": \"iucn protected area with sustainable use of natural resources\", \"133909\": \"administrative region\", \"133910\": \"first-order administrative region\", \"135959\": \"hill sphere\", \"133911\": \"second-order administrative region\", \"133912\": \"third-order administrative region\", \"135960\": \"lagrangian point\", \"133913\": \"fourth-order administrative region\", \"133915\": \"political entity\", \"133914\": \"national geopolitical entity\", \"134438\": \"swale\", \"298\": \"savanna\", \"299\": \"steppe\", \"303\": \"pasture\", \"135994\": \"area designated for human defecation\", \"135995\": \"area designated for waste storage\", \"134459\": \"dense settlement\", \"135487\": \"area of perennial water ice\", \"133952\": \"wetland area\", \"133953\": \"vegetated area\", \"135494\": \"area of perennial snow\", \"135495\": \"area of perennial ice or snow\", \"133967\": \"environmental zone\", \"135506\": \"sparsely populated settlement\", \"135507\": \"rural settlement\", \"135508\": \"formal settlement\", \"135509\": \"informal settlement\", \"135510\": \"legal settlement\", \"136023\": \"atmospheric zone\", \"136024\": \"area of low atmospheric pressure\", \"135511\": \"illegal settlement\", \"851\": \"sphagnum bog\", \"135516\": \"rural area\", \"135517\": \"village\", \"133982\": \"anthropised terrestrial environmental zone\", \"135005\": \"coastal scrubland\", \"352\": \"high tide zone\", \"353\": \"low tide zone\", \"135007\": \"oak woodland\", \"135008\": \"conifer woodland\", \"135522\": \"key biodiversity area\", \"135010\": \"desert scrubland\", \"135012\": \"pinyon juniper woodland\", \"135527\": \"illegal informal settlement\", \"135009\": \"juniper woodland\", \"134001\": \"desert area\", \"134002\": \"area of barren land\", \"134008\": \"cave entrance\", \"136057\": \"diurnal marine tidal flow zone\", \"135034\": \"ecoregion\", \"136058\": \"marine tidal flow zone\", \"136060\": \"semi-diurnal marine tidal flow zone\", \"134013\": \"grassland area\", \"135038\": \"ecozone\", \"134014\": \"heath\", \"136064\": \"glacial equlibrium line\", \"136065\": \"environmental zone of processual equilibrium\", \"136066\": \"material accumulation zone\", \"136067\": \"material decumulation zone\", \"136068\": \"ice accumulation zone\", \"134017\": \"woodland area\", \"136069\": \"glacial ice accumulation zone\", \"136071\": \"crater zone\", \"135559\": \"area of deciduous forest\", \"136072\": \"volcanic crater zone\", \"134020\": \"forested area\", \"134031\": \"supranational geopolitical entity\", \"134042\": \"buffer zone\", \"134043\": \"demilitarized zone\", \"135587\": \"area of evergreen forest\", \"134567\": \"iron-reducing zone of petroleum contaminated sediment\", \"136103\": \"area of attached mussel assemblages\", \"136105\": \"area of attached faunal communities\", \"136104\": \"area of attached modiolus assemblages\", \"135592\": \"flower strip\", \"135593\": \"flower-rich field margin strip\", \"135599\": \"area of mixed forest\", \"134066\": \"desert oasis\", \"134067\": \"oasis\", \"133044\": \"spatial region\", \"133045\": \"immaterial entity\", \"135606\": \"bush area\", \"135605\": \"area of dwarf scrub\", \"135637\": \"area of pastureland or hayfields\", \"136124\": \"ecological province\", \"135614\": \"area of scrub\", \"135103\": \"montane conifer woodland\", \"133057\": \"site\", \"134084\": \"sandy desert\", \"134085\": \"rocky desert\", \"133063\": \"continuant fiat boundary\", \"133064\": \"one-dimensional continuant fiat boundary\", \"133065\": \"two-dimensional continuant fiat boundary\", \"133066\": \"zero-dimensional continuant fiat boundary\", \"135628\": \"area of developed open space\", \"135629\": \"area of developed space with low usage intensity\", \"135630\": \"area of developed space\", \"135631\": \"area of developed space with medium usage intensity\", \"135632\": \"area of developed space with high usage intensity\", \"135633\": \"area of sedge- and forb-dominated herbaceous vegetation\", \"134096\": \"stony desert\", \"135635\": \"area of lichen-dominated vegetation\", \"135636\": \"area of moss-dominated vegetation\", \"135634\": \"area of gramanoid or herbaceous vegetation\", \"135638\": \"area of cropland\", \"135124\": \"dry woodland\", \"135640\": \"area of emergent herbaceous wetland\", \"134098\": \"raised mire\", \"134099\": \"string mire\", \"135639\": \"area of woody wetland\", \"134100\": \"tundra mire\", \"134101\": \"palsa mire\", \"135132\": \"cold desert\", \"134102\": \"peat swamp\", \"135662\": \"ablation zone\", \"135663\": \"ice decumulation zone\", \"135161\": \"freshwater littoral zone\", \"135162\": \"marine eulittoral zone\", \"135163\": \"infralittoral zone\", \"135164\": \"circalittoral zone\"}}'"
      ]
     },
     "execution_count": 36,
     "metadata": {},
     "output_type": "execute_result"
    }
   ],
   "source": [
    "res.content"
   ]
  },
  {
   "cell_type": "markdown",
   "metadata": {},
   "source": [
    "# DOID"
   ]
  },
  {
   "cell_type": "code",
   "execution_count": 37,
   "metadata": {},
   "outputs": [
    {
     "data": {
      "image/png": "[encoded data removed]",
      "text/plain": [
       "<Figure size 432x288 with 1 Axes>"
      ]
     },
     "metadata": {
      "needs_background": "light"
     },
     "output_type": "display_data"
    },
    {
     "data": {
      "image/png": "[encoded data removed]",
      "text/plain": [
       "<Figure size 432x288 with 1 Axes>"
      ]
     },
     "metadata": {
      "needs_background": "light"
     },
     "output_type": "display_data"
    }
   ],
   "source": [
    "plot_term_coverage([['disease'],['*disease of mental health'],['*disease of anatomical entity'],['**inflammatory bowel disease'],['*disease by infectious agent'],['*syndrome'],['*disease of cellular proliferation']])"
   ]
  },
  {
   "cell_type": "markdown",
   "metadata": {},
   "source": [
    "# GAZ"
   ]
  },
  {
   "cell_type": "code",
   "execution_count": 38,
   "metadata": {},
   "outputs": [
    {
     "data": {
      "image/png": "[encoded data removed]",
      "text/plain": [
       "<Figure size 432x288 with 1 Axes>"
      ]
     },
     "metadata": {
      "needs_background": "light"
     },
     "output_type": "display_data"
    },
    {
     "data": {
      "image/png": "[encoded data removed]",
      "text/plain": [
       "<Figure size 432x288 with 1 Axes>"
      ]
     },
     "metadata": {
      "needs_background": "light"
     },
     "output_type": "display_data"
    }
   ],
   "source": [
    "plot_term_coverage([['geographic location'],['*Africa'],['*Eurasia'],['*South America'],['*Oceans and Seas'],['*North America','*United states of america'],['*Antarctica']])"
   ]
  },
  {
   "cell_type": "markdown",
   "metadata": {},
   "source": [
    "# Uberon"
   ]
  },
  {
   "cell_type": "code",
   "execution_count": 39,
   "metadata": {},
   "outputs": [
    {
     "data": {
      "image/png": "[encoded data removed]",
      "text/plain": [
       "<Figure size 432x288 with 1 Axes>"
      ]
     },
     "metadata": {
      "needs_background": "light"
     },
     "output_type": "display_data"
    },
    {
     "data": {
      "image/png": "[encoded data removed]",
      "text/plain": [
       "<Figure size 432x288 with 1 Axes>"
      ]
     },
     "metadata": {
      "needs_background": "light"
     },
     "output_type": "display_data"
    }
   ],
   "source": [
    "plot_term_coverage([['processual entity'],['*life cycle stage'],['anatomical entity'],['*anatomical cluster'],['*material anatomical entity'],['**organism substance'],['**anatomical structure'],['*immaterial anatomical entity']])"
   ]
  },
  {
   "cell_type": "markdown",
   "metadata": {},
   "source": [
    "# EFO"
   ]
  },
  {
   "cell_type": "code",
   "execution_count": 40,
   "metadata": {},
   "outputs": [
    {
     "data": {
      "image/png": "[encoded data removed]",
      "text/plain": [
       "<Figure size 432x288 with 1 Axes>"
      ]
     },
     "metadata": {
      "needs_background": "light"
     },
     "output_type": "display_data"
    },
    {
     "data": {
      "image/png": "[encoded data removed]",
      "text/plain": [
       "<Figure size 432x288 with 1 Axes>"
      ]
     },
     "metadata": {
      "needs_background": "light"
     },
     "output_type": "display_data"
    }
   ],
   "source": [
    "plot_term_coverage([['experimental factor'],['*information entity'],['*material entity'],['*material property'],['**process'],['**site']])"
   ]
  },
  {
   "cell_type": "markdown",
   "metadata": {},
   "source": [
    "NOTE: material entity includes sex, disease"
   ]
  },
  {
   "cell_type": "markdown",
   "metadata": {},
   "source": [
    "# ALL"
   ]
  },
  {
   "cell_type": "code",
   "execution_count": 41,
   "metadata": {},
   "outputs": [],
   "source": [
    "terms=[]\n",
    "# efo\n",
    "terms.extend([['experimental factor'],['*information entity'],['*material entity'],['*material property'],['**process'],['**site']])\n",
    "# uberon\n",
    "terms.extend([['processual entity'],['*life cycle stage'],['anatomical entity'],['*anatomical cluster'],['*material anatomical entity'],['**organism substance'],['**anatomical structure'],['*immaterial anatomical entity']])\n",
    "# doid\n",
    "terms.extend([['disease'],['*disease of mental health'],['*disease of anatomical entity'],['**inflammatory bowel disease'],['*disease by infectious agent'],['*syndrome'],['*disease of cellular proliferation']])\n",
    "# gaz\n",
    "terms.extend([['geographic location'],['*Africa'],['*Eurasia'],['*South America'],['*Oceans and Seas'],['*North America','*United states of america'],['*Antarctica']])"
   ]
  },
  {
   "cell_type": "code",
   "execution_count": 42,
   "metadata": {},
   "outputs": [
    {
     "data": {
      "image/png": "[encoded data removed]",
      "text/plain": [
       "<Figure size 432x288 with 1 Axes>"
      ]
     },
     "metadata": {
      "needs_background": "light"
     },
     "output_type": "display_data"
    },
    {
     "data": {
      "image/png": "[encoded data removed]",
      "text/plain": [
       "<Figure size 432x288 with 1 Axes>"
      ]
     },
     "metadata": {
      "needs_background": "light"
     },
     "output_type": "display_data"
    }
   ],
   "source": [
    "plot_term_coverage(terms)"
   ]
  },
  {
   "cell_type": "code",
   "execution_count": 43,
   "metadata": {},
   "outputs": [],
   "source": [
    "terms=[]\n",
    "# efo\n",
    "terms.extend([['experimental factor'],['*information entity'],['*material entity'],['*material property']])\n",
    "# uberon\n",
    "terms.extend([['anatomical entity'],['*anatomical cluster'],['*material anatomical entity'],['**organism substance'],['**anatomical structure'],['*immaterial anatomical entity']])\n",
    "# doid\n",
    "terms.extend([['disease'],['*disease of mental health'],['*disease of anatomical entity'],['*disease by infectious agent'],['*disease of cellular proliferation']])\n",
    "# gaz\n",
    "terms.extend([['geographic location'],['*Africa'],['*Eurasia'],['*North America','*United states of america']])"
   ]
  },
  {
   "cell_type": "code",
   "execution_count": 44,
   "metadata": {},
   "outputs": [
    {
     "data": {
      "image/png": "[encoded data removed]",
      "text/plain": [
       "<Figure size 432x288 with 1 Axes>"
      ]
     },
     "metadata": {
      "needs_background": "light"
     },
     "output_type": "display_data"
    },
    {
     "data": {
      "image/png": "[encoded data removed]",
      "text/plain": [
       "<Figure size 432x288 with 1 Axes>"
      ]
     },
     "metadata": {
      "needs_background": "light"
     },
     "output_type": "display_data"
    }
   ],
   "source": [
    "plot_term_coverage(terms)"
   ]
  },
  {
   "cell_type": "code",
   "execution_count": 45,
   "metadata": {},
   "outputs": [],
   "source": [
    "def print_term_info(term):\n",
    "    res=db.db._get('ontology/get_annotations',{'term':term,'get_children':'true'},param_json=False)\n",
    "    anno=res.json()['annotations']\n",
    "    print('%s: %d annotations' % (term, len(anno)))\n",
    "    exp=set()\n",
    "    for canno in anno:\n",
    "        exp.add(canno['expid'])\n",
    "    print('%s: %d experiments' % (term, len(exp)))\n"
   ]
  },
  {
   "cell_type": "code",
   "execution_count": 46,
   "metadata": {},
   "outputs": [
    {
     "name": "stdout",
     "output_type": "stream",
     "text": [
      "continuant: 6021 annotations\n",
      "continuant: 756 experiments\n"
     ]
    }
   ],
   "source": [
    "print_term_info('continuant')"
   ]
  },
  {
   "cell_type": "code",
   "execution_count": 47,
   "metadata": {},
   "outputs": [
    {
     "name": "stdout",
     "output_type": "stream",
     "text": [
      "occurrent: 42 annotations\n",
      "occurrent: 13 experiments\n"
     ]
    }
   ],
   "source": [
    "print_term_info('occurrent')"
   ]
  },
  {
   "cell_type": "code",
   "execution_count": 48,
   "metadata": {},
   "outputs": [],
   "source": [
    "def generate_terms_map(terms, filename, ontologyname='ENVO'):\n",
    "    flnodes = open(filename+'.nodes.csv','w')\n",
    "    flnodes.write('term,num_anno,num_exp,ontology,label\\n')\n",
    "    fledges = open(filename+'.edges.csv','w')\n",
    "    fledges.write('childterm,parentterm,type\\n')\n",
    "    for cterm in terms:\n",
    "        print(cterm)\n",
    "        res=db.db._get('ontology/get_annotations',{'term':cterm,'get_children':'true'},param_json=False)\n",
    "        anno=res.json()['annotations']\n",
    "        exp=set()\n",
    "        for canno in anno:\n",
    "            exp.add(canno['expid'])\n",
    "        print('%d annotations %d exps' % (len(anno), len(exp)))\n",
    "        label = '%s (%d)' % (cterm, len(exp))\n",
    "        flnodes.write('%s,%d,%d,%s,%s\\n' % (cterm, len(anno), len(exp), ontologyname, label))\n",
    "        # find the closest parent\n",
    "        res=db.db._get('ontology/get_parents',{'term':cterm},param_json=False)\n",
    "        if res.reason != 'OK':\n",
    "            print('error for parents for %s' % cterm)\n",
    "            continue\n",
    "        parents=set(res.json()['parents'])\n",
    "        parent_term=None\n",
    "        for ct in terms:\n",
    "            if ct != cterm:\n",
    "                if ct in parents:\n",
    "                    parent_term=ct\n",
    "        if parent_term is not None:\n",
    "            fledges.write('%s,%s,PAR\\n' % (cterm, parent_term))\n",
    "            print('parent of %s is %s' % (cterm, parent_term))\n",
    "\n",
    "    flnodes.close()\n",
    "    fledges.close()"
   ]
  },
  {
   "cell_type": "code",
   "execution_count": 49,
   "metadata": {},
   "outputs": [
    {
     "name": "stdout",
     "output_type": "stream",
     "text": [
      "entity\n",
      "6021 annotations 756 exps\n",
      "continuant\n",
      "6021 annotations 756 exps\n",
      "parent of continuant is entity\n",
      "independent continuant\n",
      "6017 annotations 756 exps\n",
      "parent of independent continuant is continuant\n",
      "material entity\n",
      "6013 annotations 756 exps\n",
      "parent of material entity is independent continuant\n",
      "immaterial entity\n",
      "664 annotations 107 exps\n",
      "parent of immaterial entity is independent continuant\n",
      "organism\n",
      "4721 annotations 619 exps\n",
      "parent of organism is material entity\n",
      "anatomical entity\n",
      "3527 annotations 514 exps\n",
      "parent of anatomical entity is independent continuant\n",
      "homo sapiens\n",
      "1398 annotations 241 exps\n",
      "parent of homo sapiens is organism\n",
      "bos taurus\n",
      "75 annotations 16 exps\n",
      "parent of bos taurus is organism\n",
      "sus scrofa\n",
      "85 annotations 13 exps\n",
      "parent of sus scrofa is organism\n",
      "environmental zone\n",
      "664 annotations 107 exps\n",
      "parent of environmental zone is immaterial entity\n",
      "food product type\n",
      "159 annotations 25 exps\n",
      "parent of food product type is material entity\n",
      "environmental material\n",
      "1220 annotations 185 exps\n",
      "parent of environmental material is material entity\n",
      "soil\n",
      "588 annotations 80 exps\n",
      "parent of soil is environmental material\n",
      "sediment\n",
      "165 annotations 30 exps\n",
      "parent of sediment is environmental material\n",
      "body of liquid\n",
      "240 annotations 32 exps\n",
      "parent of body of liquid is material entity\n",
      "ocean\n",
      "258 annotations 15 exps\n",
      "parent of ocean is material entity\n",
      "river\n",
      "88 annotations 11 exps\n",
      "parent of river is body of liquid\n",
      "lake\n",
      "91 annotations 9 exps\n",
      "parent of lake is body of liquid\n"
     ]
    }
   ],
   "source": [
    "generate_terms_map(['entity','continuant','independent continuant','material entity','immaterial entity','organism','anatomical entity','homo sapiens','bos taurus','sus scrofa','environmental zone','food product type','environmental material','soil','sediment','body of liquid','ocean','river','lake'],'cytoscape_envo')"
   ]
  },
  {
   "cell_type": "code",
   "execution_count": 50,
   "metadata": {},
   "outputs": [
    {
     "name": "stdout",
     "output_type": "stream",
     "text": [
      "immaterial entity: 664 annotations\n",
      "immaterial entity: 107 experiments\n"
     ]
    }
   ],
   "source": [
    "print_term_info('immaterial entity')"
   ]
  },
  {
   "cell_type": "code",
   "execution_count": 51,
   "metadata": {},
   "outputs": [
    {
     "name": "stdout",
     "output_type": "stream",
     "text": [
      "disease\n",
      "540 annotations 149 exps\n",
      "disease by infectious agent\n",
      "30 annotations 9 exps\n",
      "parent of disease by infectious agent is disease\n",
      "disease of mental health\n",
      "19 annotations 6 exps\n",
      "parent of disease of mental health is disease\n",
      "genetic disease\n",
      "11 annotations 3 exps\n",
      "parent of genetic disease is disease\n",
      "disease of metabolism\n",
      "59 annotations 13 exps\n",
      "parent of disease of metabolism is disease\n",
      "disease of anatomical entity\n",
      "299 annotations 86 exps\n",
      "parent of disease of anatomical entity is disease\n",
      "syndrome\n",
      "9 annotations 4 exps\n",
      "parent of syndrome is disease\n",
      "crohn's disease\n",
      "38 annotations 11 exps\n",
      "parent of crohn's disease is disease of anatomical entity\n",
      "ulcerative colitis\n",
      "31 annotations 8 exps\n",
      "parent of ulcerative colitis is disease of anatomical entity\n",
      "diarrhea\n",
      "23 annotations 7 exps\n",
      "parent of diarrhea is disease of anatomical entity\n",
      "periodontitis\n",
      "41 annotations 10 exps\n",
      "parent of periodontitis is disease of anatomical entity\n",
      "anorexia nervosa\n",
      "2 annotations 1 exps\n",
      "parent of anorexia nervosa is disease of mental health\n",
      "obesity\n",
      "33 annotations 9 exps\n",
      "parent of obesity is disease of metabolism\n",
      "hiv infection\n",
      "31 annotations 8 exps\n",
      "parent of hiv infection is disease\n"
     ]
    }
   ],
   "source": [
    "generate_terms_map(['disease','disease by infectious agent','disease of mental health','genetic disease','disease of metabolism','disease of anatomical entity','syndrome',\"crohn's disease\",'ulcerative colitis','diarrhea','periodontitis','anorexia nervosa','obesity','hiv infection'],'cytoscape_doid')"
   ]
  },
  {
   "cell_type": "code",
   "execution_count": 52,
   "metadata": {},
   "outputs": [
    {
     "name": "stdout",
     "output_type": "stream",
     "text": [
      "anatomical entity\n",
      "3527 annotations 514 exps\n",
      "immaterial anatomical entity\n",
      "111 annotations 23 exps\n",
      "parent of immaterial anatomical entity is anatomical entity\n",
      "material anatomical entity\n",
      "3519 annotations 513 exps\n",
      "parent of material anatomical entity is anatomical entity\n",
      "anatomical collection\n",
      "185 annotations 33 exps\n",
      "parent of anatomical collection is material anatomical entity\n",
      "anatomical structure\n",
      "3445 annotations 506 exps\n",
      "parent of anatomical structure is material anatomical entity\n",
      "organism substance\n",
      "2063 annotations 330 exps\n",
      "parent of organism substance is material anatomical entity\n",
      "feces\n",
      "1700 annotations 281 exps\n",
      "parent of feces is organism substance\n",
      "saliva\n",
      "195 annotations 38 exps\n",
      "parent of saliva is organism substance\n",
      "urine\n",
      "8 annotations 4 exps\n",
      "parent of urine is organism substance\n",
      "skin\n",
      "261 annotations 31 exps\n",
      "nasopharynx\n",
      "50 annotations 9 exps\n",
      "parent of nasopharynx is anatomical structure\n",
      "cecum\n",
      "2 annotations 1 exps\n",
      "duodenum\n",
      "43 annotations 10 exps\n",
      "parent of duodenum is anatomical structure\n",
      "stomach\n",
      "99 annotations 16 exps\n",
      "parent of stomach is anatomical structure\n",
      "rumen\n",
      "83 annotations 18 exps\n",
      "parent of rumen is anatomical structure\n",
      "pair of nares\n",
      "49 annotations 12 exps\n",
      "parent of pair of nares is anatomical collection\n",
      "mouth\n",
      "109 annotations 22 exps\n",
      "parent of mouth is anatomical structure\n",
      "dentition\n",
      "110 annotations 20 exps\n",
      "parent of dentition is anatomical collection\n"
     ]
    }
   ],
   "source": [
    "generate_terms_map(['anatomical entity','immaterial anatomical entity','material anatomical entity','anatomical collection','anatomical structure','organism substance','feces','saliva','urine','skin','nasopharynx','cecum','duodenum','stomach','rumen','pair of nares','mouth','dentition'],'cytoscape_uberon')"
   ]
  },
  {
   "cell_type": "code",
   "execution_count": 53,
   "metadata": {},
   "outputs": [
    {
     "name": "stdout",
     "output_type": "stream",
     "text": [
      "eukaryota\n",
      "4713 annotations 617 exps\n",
      "streptophyta\n",
      "672 annotations 82 exps\n",
      "parent of streptophyta is eukaryota\n",
      "metazoa\n",
      "4051 annotations 540 exps\n",
      "parent of metazoa is eukaryota\n",
      "chordata\n",
      "3234 annotations 484 exps\n",
      "parent of chordata is metazoa\n",
      "mammalia\n",
      "2738 annotations 416 exps\n",
      "parent of mammalia is chordata\n",
      "primates\n",
      "1550 annotations 255 exps\n",
      "parent of primates is mammalia\n",
      "hominidae\n",
      "1446 annotations 246 exps\n",
      "parent of hominidae is primates\n",
      "gorilla\n",
      "22 annotations 5 exps\n",
      "parent of gorilla is hominidae\n",
      "pan\n",
      "24 annotations 4 exps\n",
      "parent of pan is hominidae\n",
      "sus scrofa\n",
      "85 annotations 13 exps\n",
      "parent of sus scrofa is mammalia\n",
      "homo sapiens\n",
      "1398 annotations 241 exps\n",
      "parent of homo sapiens is hominidae\n",
      "bos taurus\n",
      "75 annotations 16 exps\n",
      "parent of bos taurus is mammalia\n",
      "canis\n",
      "115 annotations 24 exps\n",
      "parent of canis is mammalia\n",
      "equus\n",
      "62 annotations 10 exps\n",
      "parent of equus is mammalia\n",
      "triticum aestivum\n",
      "62 annotations 8 exps\n",
      "parent of triticum aestivum is streptophyta\n",
      "zea mays\n",
      "29 annotations 6 exps\n",
      "parent of zea mays is streptophyta\n",
      "zostera\n",
      "15 annotations 2 exps\n",
      "parent of zostera is streptophyta\n",
      "insecta\n",
      "587 annotations 32 exps\n",
      "parent of insecta is metazoa\n",
      "actinopterygii\n",
      "141 annotations 21 exps\n",
      "parent of actinopterygii is chordata\n",
      "danio rerio\n",
      "19 annotations 5 exps\n",
      "parent of danio rerio is actinopterygii\n",
      "oreochromis niloticus\n",
      "13 annotations 2 exps\n",
      "parent of oreochromis niloticus is actinopterygii\n",
      "cyprinus carpio\n",
      "4 annotations 1 exps\n",
      "parent of cyprinus carpio is actinopterygii\n"
     ]
    }
   ],
   "source": [
    "generate_terms_map(['eukaryota','streptophyta','metazoa','chordata','mammalia','primates','hominidae','gorilla','pan','sus scrofa','homo sapiens','bos taurus','canis','equus','triticum aestivum','zea mays','zostera','insecta','actinopterygii','danio rerio','oreochromis niloticus','cyprinus carpio'],'cytoscape_tax')"
   ]
  },
  {
   "cell_type": "code",
   "execution_count": 54,
   "metadata": {},
   "outputs": [
    {
     "name": "stdout",
     "output_type": "stream",
     "text": [
      "geographic location\n",
      "5506 annotations 730 exps\n",
      "eurasia\n",
      "2097 annotations 334 exps\n",
      "parent of eurasia is geographic location\n",
      "south america\n",
      "290 annotations 42 exps\n",
      "parent of south america is geographic location\n",
      "north america\n",
      "1651 annotations 193 exps\n",
      "parent of north america is geographic location\n",
      "australia\n",
      "127 annotations 20 exps\n",
      "parent of australia is geographic location\n",
      "africa\n",
      "273 annotations 32 exps\n",
      "parent of africa is geographic location\n",
      "oceans and seas\n",
      "651 annotations 74 exps\n",
      "parent of oceans and seas is geographic location\n",
      "pacific ocean\n",
      "325 annotations 26 exps\n",
      "parent of pacific ocean is oceans and seas\n",
      "atlantic ocean\n",
      "111 annotations 23 exps\n",
      "parent of atlantic ocean is oceans and seas\n",
      "china\n",
      "833 annotations 148 exps\n",
      "parent of china is eurasia\n",
      "israel\n",
      "91 annotations 15 exps\n",
      "parent of israel is eurasia\n",
      "united states of america\n",
      "1752 annotations 231 exps\n",
      "parent of united states of america is geographic location\n",
      "italy\n",
      "120 annotations 15 exps\n",
      "parent of italy is eurasia\n",
      "japan\n",
      "61 annotations 11 exps\n",
      "parent of japan is eurasia\n",
      "brazil\n",
      "122 annotations 18 exps\n",
      "parent of brazil is south america\n",
      "germany\n",
      "155 annotations 23 exps\n",
      "parent of germany is eurasia\n",
      "north africa\n",
      "28 annotations 5 exps\n",
      "parent of north africa is africa\n",
      "sub-saharan africa\n",
      "234 annotations 28 exps\n",
      "parent of sub-saharan africa is africa\n",
      "namibia\n",
      "6 annotations 2 exps\n",
      "parent of namibia is south africa\n",
      "tanzania\n",
      "17 annotations 3 exps\n",
      "parent of tanzania is sub-saharan africa\n",
      "south africa\n",
      "109 annotations 12 exps\n",
      "parent of south africa is sub-saharan africa\n"
     ]
    }
   ],
   "source": [
    "generate_terms_map(['geographic location','eurasia','south america','north america','australia','africa','oceans and seas','pacific ocean','atlantic ocean','china','israel','united states of america','italy','japan','brazil','germany','north africa','sub-saharan africa','namibia','tanzania','south africa'],'cytoscape_gaz')"
   ]
  },
  {
   "cell_type": "code",
   "execution_count": null,
   "metadata": {
    "collapsed": true,
    "jupyter": {
     "outputs_hidden": true
    }
   },
   "outputs": [],
   "source": []
  }
 ],
 "metadata": {
  "kernelspec": {
   "display_name": "Python 3",
   "language": "python",
   "name": "python3"
  },
  "language_info": {
   "codemirror_mode": {
    "name": "ipython",
    "version": 3
   },
   "file_extension": ".py",
   "mimetype": "text/x-python",
   "name": "python",
   "nbconvert_exporter": "python",
   "pygments_lexer": "ipython3",
   "version": "3.7.9"
  }
 },
 "nbformat": 4,
 "nbformat_minor": 4
}
