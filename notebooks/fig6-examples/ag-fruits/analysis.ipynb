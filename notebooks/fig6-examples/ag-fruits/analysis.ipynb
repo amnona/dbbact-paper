{
 "cells": [
  {
   "cell_type": "code",
   "execution_count": 1,
   "metadata": {},
   "outputs": [
    {
     "name": "stdout",
     "output_type": "stream",
     "text": [
      "failed to load logging config file\n"
     ]
    }
   ],
   "source": [
    "import calour as ca\n",
    "import calour_utils as cu"
   ]
  },
  {
   "cell_type": "code",
   "execution_count": 2,
   "metadata": {},
   "outputs": [],
   "source": [
    "import numpy as np\n",
    "import pandas as pd\n",
    "import matplotlib.pyplot as plt"
   ]
  },
  {
   "cell_type": "code",
   "execution_count": 3,
   "metadata": {},
   "outputs": [
    {
     "data": {
      "text/plain": [
       "'/Users/amnon/git/dbbact-paper/notebooks/ag-fruits'"
      ]
     },
     "execution_count": 3,
     "metadata": {},
     "output_type": "execute_result"
    }
   ],
   "source": [
    "pwd"
   ]
  },
  {
   "cell_type": "code",
   "execution_count": 4,
   "metadata": {},
   "outputs": [],
   "source": [
    "ca.set_log_level(11)"
   ]
  },
  {
   "cell_type": "code",
   "execution_count": 5,
   "metadata": {},
   "outputs": [],
   "source": [
    "%matplotlib inline"
   ]
  },
  {
   "cell_type": "code",
   "execution_count": 6,
   "metadata": {},
   "outputs": [
    {
     "name": "stdout",
     "output_type": "stream",
     "text": [
      "creating logger\n"
     ]
    }
   ],
   "source": [
    "db=ca.database._get_database_class('dbbact')"
   ]
  },
  {
   "cell_type": "markdown",
   "metadata": {},
   "source": [
    "# Load the data\n",
    "### from:\n",
    "American gut: an open platform for citizen science microbiome research.\n",
    "\n",
    "McDonald, Daniel, Embriette Hyde, Justine W. Debelius, James T. Morton, Antonio Gonzalez, Gail Ackermann, Alexander A. Aksenov et al. \n",
    "\n",
    "Msystems 3, no. 3 (2018): e00031-18.\n",
    "\n",
    "https://doi.org/10.1128/mSystems.00031-18"
   ]
  },
  {
   "cell_type": "code",
   "execution_count": 7,
   "metadata": {},
   "outputs": [],
   "source": [
    "ca.set_log_level('ERROR')\n",
    "\n",
    "dat=ca.read_amplicon('./all.ag.biom',\n",
    "                    './map.ag.txt',\n",
    "                    min_reads=1000,\n",
    "                    normalize=10000)\n",
    "\n",
    "ca.set_log_level('INFO')\n"
   ]
  },
  {
   "cell_type": "markdown",
   "metadata": {},
   "source": [
    "# We will look at the fecal samples"
   ]
  },
  {
   "cell_type": "code",
   "execution_count": 8,
   "metadata": {},
   "outputs": [],
   "source": [
    "fec=dat.filter_samples('BODY_PRODUCT','UBERON:feces')\n",
    "del dat"
   ]
  },
  {
   "cell_type": "code",
   "execution_count": 9,
   "metadata": {},
   "outputs": [
    {
     "name": "stdout",
     "output_type": "stream",
     "text": [
      "2022-06-26 11:37:14 INFO After filtering, 9720 remain.\n"
     ]
    }
   ],
   "source": [
    "fecc=fec.filter_sum_abundance(50)\n",
    "# merge all samples from a single individual into one sample\n",
    "fecc=fecc.aggregate_by_metadata('HOST_SUBJECT_ID')"
   ]
  },
  {
   "cell_type": "code",
   "execution_count": 11,
   "metadata": {},
   "outputs": [],
   "source": [
    "def merge_freq(exp, field, new_field='freq'):\n",
    "    '''merge an ag field with frequecy data\n",
    "        into a new field with only 2 values (high/low)\n",
    "    \n",
    "    input:\n",
    "    exp\n",
    "    field : str\n",
    "        the field to merge\n",
    "    new_field : str (optional)\n",
    "        name of the new field\n",
    "        \n",
    "    returns\n",
    "    newexp: calour.Experiment, with values in 2 categories - high & low\n",
    "    '''\n",
    "    newexp = exp.copy()\n",
    "    newexp.sample_metadata[new_field]=newexp.sample_metadata[field].copy()\n",
    "    newexp.sample_metadata[new_field].replace(['Regularly (3-5 times/week)','Daily'],'high fruit',inplace=True)\n",
    "    newexp.sample_metadata[new_field].replace(['Rarely (a few times/month)','Never','Occasionally (1-2 times/week)'],'low fruit',inplace=True)\n",
    "    newexp=newexp.filter_samples(new_field,['low fruit','high fruit'],inplace=True)\n",
    "    return newexp"
   ]
  },
  {
   "cell_type": "code",
   "execution_count": 12,
   "metadata": {},
   "outputs": [
    {
     "name": "stdout",
     "output_type": "stream",
     "text": [
      "2022-06-26 11:37:47 INFO After filtering, 7245 remain.\n",
      "2022-06-26 11:37:48 INFO 2142 samples with both values\n",
      "2022-06-26 11:37:48 INFO After filtering, 7245 remain.\n",
      "2022-06-26 11:37:49 INFO 1071 samples with value 1 (['high fruit'])\n",
      "2022-06-26 11:37:56 INFO number of higher in high fruit: 45. number of higher in low fruit : 41. total 86\n"
     ]
    }
   ],
   "source": [
    "tt=merge_freq(fecc,'FRUIT_FREQUENCY')\n",
    "tt=cu.equalize_groups(tt,'freq',['AGE_CAT','SEX','BMI_CAT'], random_seed=2022)\n",
    "tt=tt.filter_sum_abundance(10)\n",
    "dd=tt.diff_abundance('freq','high fruit','low fruit',random_seed=2022)"
   ]
  },
  {
   "cell_type": "code",
   "execution_count": 13,
   "metadata": {},
   "outputs": [
    {
     "name": "stdout",
     "output_type": "stream",
     "text": [
      "2022-06-26 11:37:57 INFO Getting dbBact annotations for 86 sequences, please wait...\n",
      "2022-06-26 11:37:57 INFO Limited to maximal annotationid: 7440\n",
      "2022-06-26 11:37:59 INFO got 2124 annotations\n",
      "2022-06-26 11:37:59 WARNING ignoring 0 annotation with id > max_id 7440\n",
      "2022-06-26 11:37:59 INFO Got 10857 annotation-sequence pairs\n",
      "2022-06-26 11:37:59 INFO Added annotation data to experiment. Total 2124 annotations, 86 ASVs\n",
      "2022-06-26 11:37:59 INFO Found 1 experiments ([63]) matching current experiment - ignoring them.\n",
      "2022-06-26 11:38:01 INFO found 7 negative\n",
      "2022-06-26 11:38:01 INFO found 7 positive\n"
     ]
    },
    {
     "data": {
      "image/png": "[encoded data removed]",
      "text/plain": [
       "<Figure size 432x288 with 1 Axes>"
      ]
     },
     "metadata": {
      "needs_background": "light"
     },
     "output_type": "display_data"
    }
   ],
   "source": [
    "f,e=dd.plot_diff_abundance_enrichment(ignore_exp=True,labels_kwargs={'family':'Arial','size':11},numbers_kwargs={'family':'arial','size':10,'weight':'bold','color':'white','style':'italic'}, max_id=7440,min_appearances=1,num_results_needed=7,max_show=7)\n",
    "ax=plt.gca()\n",
    "ax.set_aspect(1.0/ax.get_data_ratio()*1)\n",
    "ax.figure.tight_layout()\n"
   ]
  },
  {
   "cell_type": "code",
   "execution_count": 14,
   "metadata": {},
   "outputs": [],
   "source": [
    "f.figure.savefig('./fig-terms-fruit-consumption.pdf')"
   ]
  },
  {
   "cell_type": "code",
   "execution_count": 15,
   "metadata": {},
   "outputs": [
    {
     "name": "stdout",
     "output_type": "stream",
     "text": [
      "2022-06-26 11:38:02 INFO Metadata field taxonomy not found. Saving biom table without metadata\n"
     ]
    }
   ],
   "source": [
    "e.save('./table-terms-fruit-consumption')"
   ]
  },
  {
   "cell_type": "code",
   "execution_count": 16,
   "metadata": {},
   "outputs": [
    {
     "name": "stdout",
     "output_type": "stream",
     "text": [
      "2022-06-26 11:38:02 INFO Found 1 experiments ([63]) matching current experiment - ignoring them.\n",
      "2022-06-26 11:38:02 INFO found 80 annotations with the term ['monkey']\n",
      "2022-06-26 11:38:06 INFO ignored 0 annotations\n",
      "2022-06-26 11:38:06 WARNING Clipped term circle size to 100. Real size (number of term seqs not overlapping) should be: 5248\n"
     ]
    },
    {
     "data": {
      "image/png": "[encoded data removed]",
      "text/plain": [
       "<Figure size 432x288 with 1 Axes>"
      ]
     },
     "metadata": {},
     "output_type": "display_data"
    }
   ],
   "source": [
    "f=db.plot_term_venn_all('monkey',dd,max_size=100, ignore_exp=True,colors_alpha=0.8,label_kwargs={'color':'w','fontweight':'bold','fontsize':24},max_id=7440)"
   ]
  },
  {
   "cell_type": "code",
   "execution_count": 17,
   "metadata": {},
   "outputs": [],
   "source": [
    "f.savefig('./fig-venn-monkey.pdf')"
   ]
  },
  {
   "cell_type": "code",
   "execution_count": null,
   "metadata": {},
   "outputs": [],
   "source": []
  }
 ],
 "metadata": {
  "kernelspec": {
   "display_name": "Python 3",
   "language": "python",
   "name": "python3"
  },
  "language_info": {
   "codemirror_mode": {
    "name": "ipython",
    "version": 3
   },
   "file_extension": ".py",
   "mimetype": "text/x-python",
   "name": "python",
   "nbconvert_exporter": "python",
   "pygments_lexer": "ipython3",
   "version": "3.9.5"
  }
 },
 "nbformat": 4,
 "nbformat_minor": 4
}
