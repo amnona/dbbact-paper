{
 "cells": [
  {
   "cell_type": "code",
   "execution_count": 1,
   "metadata": {},
   "outputs": [
    {
     "name": "stdout",
     "output_type": "stream",
     "text": [
      "failed to load logging config file\n"
     ]
    }
   ],
   "source": [
    "import calour as ca\n",
    "import calour_utils as cu"
   ]
  },
  {
   "cell_type": "code",
   "execution_count": 2,
   "metadata": {},
   "outputs": [],
   "source": [
    "import numpy as np\n",
    "import pandas as pd\n",
    "import matplotlib.pyplot as plt"
   ]
  },
  {
   "cell_type": "code",
   "execution_count": 3,
   "metadata": {},
   "outputs": [
    {
     "data": {
      "text/plain": [
       "'/Users/amnon/git/dbbact-paper/notebooks/human-oral-citizen'"
      ]
     },
     "execution_count": 3,
     "metadata": {},
     "output_type": "execute_result"
    }
   ],
   "source": [
    "pwd"
   ]
  },
  {
   "cell_type": "code",
   "execution_count": 4,
   "metadata": {},
   "outputs": [],
   "source": [
    "ca.set_log_level(11)"
   ]
  },
  {
   "cell_type": "code",
   "execution_count": 5,
   "metadata": {},
   "outputs": [],
   "source": [
    "%matplotlib inline"
   ]
  },
  {
   "cell_type": "code",
   "execution_count": 6,
   "metadata": {},
   "outputs": [
    {
     "name": "stdout",
     "output_type": "stream",
     "text": [
      "creating logger\n"
     ]
    }
   ],
   "source": [
    "db=ca.database._get_database_class('dbbact')"
   ]
  },
  {
   "cell_type": "markdown",
   "metadata": {},
   "source": [
    "# Load the data\n",
    "### From:\n",
    "Citizen science charts two major “stomatotypes” in the oral microbiome of adolescents and reveals links with habits and drinking water composition. \n",
    "\n",
    "Willis, J.R., González-Torres, P., Pittis, A.A., Bejarano, L.A., Cozzuto, L., Andreu-Somavilla, N., Alloza-Trabado, M., Valentín, A., Ksiezopolska, E., Onywera, H. and Montfort, M., 2018. \n",
    "\n",
    "Microbiome, 6(1), pp.1-17.\n",
    "\n",
    "https://doi.org/10.1186/s40168-018-0592-3"
   ]
  },
  {
   "cell_type": "code",
   "execution_count": 11,
   "metadata": {},
   "outputs": [
    {
     "name": "stdout",
     "output_type": "stream",
     "text": [
      "2022-06-25 18:17:37 INFO loaded 1319 samples, 5093 features\n",
      "2022-06-25 18:17:37 WARNING Do you forget to normalize your data? It is required before running this function\n",
      "2022-06-25 18:17:37 INFO After filtering, 1303 remain.\n"
     ]
    }
   ],
   "source": [
    "dat=ca.read_amplicon('./all.biom','./map.joined.txt',normalize=10000,min_reads=1000)"
   ]
  },
  {
   "cell_type": "code",
   "execution_count": 12,
   "metadata": {},
   "outputs": [
    {
     "name": "stdout",
     "output_type": "stream",
     "text": [
      "2022-06-25 18:17:37 INFO After filtering, 3046 remain.\n"
     ]
    }
   ],
   "source": [
    "datc=dat.cluster_features(10)"
   ]
  },
  {
   "cell_type": "code",
   "execution_count": 13,
   "metadata": {},
   "outputs": [],
   "source": [
    "datc=datc.sort_samples('age')"
   ]
  },
  {
   "cell_type": "code",
   "execution_count": 14,
   "metadata": {},
   "outputs": [
    {
     "data": {
      "text/plain": [
       "Student    1281\n",
       "Teacher      22\n",
       "Name: host_occupation, dtype: int64"
      ]
     },
     "execution_count": 14,
     "metadata": {},
     "output_type": "execute_result"
    }
   ],
   "source": [
    "datc.sample_metadata.host_occupation.value_counts()"
   ]
  },
  {
   "cell_type": "markdown",
   "metadata": {},
   "source": [
    "# Braces\n",
    "## We do analysis paired on age (so comparison is only done on subjects with same age)"
   ]
  },
  {
   "cell_type": "code",
   "execution_count": 15,
   "metadata": {},
   "outputs": [
    {
     "name": "stdout",
     "output_type": "stream",
     "text": [
      "2022-06-25 18:17:58 INFO Dropping 261 values with < 2 samples\n",
      "2022-06-25 18:17:58 INFO 1039 samples with both values\n",
      "2022-06-25 18:17:58 INFO After filtering, 2976 remain.\n",
      "2022-06-25 18:17:58 INFO 287 samples with value 1 (['braces'])\n",
      "2022-06-25 18:18:04 INFO number of higher in braces: 146. number of higher in no braces : 40. total 186\n"
     ]
    }
   ],
   "source": [
    "dd=datc.diff_abundance_paired('age','Braces2','braces','no braces',alpha=0.1,random_seed=2022)"
   ]
  },
  {
   "cell_type": "code",
   "execution_count": 16,
   "metadata": {},
   "outputs": [
    {
     "name": "stdout",
     "output_type": "stream",
     "text": [
      "2022-06-25 18:18:08 INFO Getting dbBact annotations for 186 sequences, please wait...\n",
      "2022-06-25 18:18:08 INFO Limited to maximal annotationid: 7440\n",
      "2022-06-25 18:18:27 INFO got 2292 annotations\n",
      "2022-06-25 18:18:28 WARNING ignoring 0 annotation with id > max_id 7440\n",
      "2022-06-25 18:18:28 INFO Got 10852 annotation-sequence pairs\n",
      "2022-06-25 18:18:28 INFO Added annotation data to experiment. Total 2292 annotations, 186 ASVs\n",
      "2022-06-25 18:18:30 INFO Found 1 experiments ([598]) matching current experiment - ignoring them.\n",
      "2022-06-25 18:18:34 INFO found 7 negative\n",
      "2022-06-25 18:18:36 INFO found 7 positive\n"
     ]
    },
    {
     "data": {
      "image/png": "[encoded data removed]",
      "text/plain": [
       "<Figure size 432x288 with 1 Axes>"
      ]
     },
     "metadata": {
      "needs_background": "light"
     },
     "output_type": "display_data"
    }
   ],
   "source": [
    "f,e=dd.plot_diff_abundance_enrichment(ignore_exp=True,labels_kwargs={'family':'Arial','size':11},numbers_kwargs={'family':'arial','size':10,'weight':'bold','color':'white','style':'italic'}, max_id=7440,min_appearances=1,num_results_needed=7,max_show=7)\n",
    "ax=plt.gca()\n",
    "ax.set_aspect(1.0/ax.get_data_ratio()*1)\n",
    "ax.figure.tight_layout()\n"
   ]
  },
  {
   "cell_type": "code",
   "execution_count": 17,
   "metadata": {},
   "outputs": [],
   "source": [
    "f.figure.savefig('./fig-terms-braces.pdf')"
   ]
  },
  {
   "cell_type": "code",
   "execution_count": 18,
   "metadata": {},
   "outputs": [
    {
     "name": "stdout",
     "output_type": "stream",
     "text": [
      "2022-06-25 18:18:37 INFO Metadata field taxonomy not found. Saving biom table without metadata\n"
     ]
    }
   ],
   "source": [
    "e.save('./table-terms-braces')"
   ]
  },
  {
   "cell_type": "markdown",
   "metadata": {},
   "source": [
    "# salivary pH correlation"
   ]
  },
  {
   "cell_type": "code",
   "execution_count": 16,
   "metadata": {},
   "outputs": [
    {
     "name": "stdout",
     "output_type": "stream",
     "text": [
      "2022-06-24 16:39:50 INFO After filtering, 3046 remain.\n",
      "2022-06-24 16:39:50 WARNING NaN values encountered in labels for correlation. Ignoring these samples\n",
      "2022-06-24 16:39:53 INFO Positive correlated features : 45. Negative correlated features : 79. total 124\n"
     ]
    }
   ],
   "source": [
    "dd=datc.correlation('pH.Saliva',random_seed=2022)"
   ]
  },
  {
   "cell_type": "code",
   "execution_count": 17,
   "metadata": {},
   "outputs": [
    {
     "name": "stdout",
     "output_type": "stream",
     "text": [
      "2022-06-24 16:40:00 INFO Getting dbBact annotations for 124 sequences, please wait...\n",
      "2022-06-24 16:40:00 INFO Limited to maximal annotationid: 7440\n",
      "2022-06-24 16:40:06 INFO got 2031 annotations\n",
      "2022-06-24 16:40:06 WARNING ignoring 0 annotation with id > max_id 7440\n",
      "2022-06-24 16:40:06 INFO Got 9806 annotation-sequence pairs\n",
      "2022-06-24 16:40:06 INFO Added annotation data to experiment. Total 2031 annotations, 124 ASVs\n",
      "2022-06-24 16:40:07 INFO Found 1 experiments ([598]) matching current experiment - ignoring them.\n",
      "2022-06-24 16:40:08 INFO found 5 negative\n",
      "2022-06-24 16:40:08 INFO found 7 positive\n"
     ]
    },
    {
     "data": {
      "image/png": "[encoded data removed]",
      "text/plain": [
       "<Figure size 432x288 with 1 Axes>"
      ]
     },
     "metadata": {
      "needs_background": "light"
     },
     "output_type": "display_data"
    }
   ],
   "source": [
    "f,e=dd.plot_diff_abundance_enrichment(ignore_exp=True,labels_kwargs={'family':'Arial','size':11},numbers_kwargs={'family':'arial','size':10,'weight':'bold','color':'white','style':'italic'}, max_id=7440,min_appearances=1,num_results_needed=7,max_show=7)\n",
    "ax=plt.gca()\n",
    "ax.set_aspect(1.0/ax.get_data_ratio()*1)\n",
    "ax.figure.tight_layout()\n"
   ]
  },
  {
   "cell_type": "code",
   "execution_count": 18,
   "metadata": {},
   "outputs": [],
   "source": [
    "f.figure.savefig('./fig-terms-ph.pdf')"
   ]
  },
  {
   "cell_type": "code",
   "execution_count": 19,
   "metadata": {},
   "outputs": [
    {
     "name": "stdout",
     "output_type": "stream",
     "text": [
      "2022-06-24 16:40:09 INFO Metadata field taxonomy not found. Saving biom table without metadata\n"
     ]
    }
   ],
   "source": [
    "e.save('./table-ph')"
   ]
  },
  {
   "cell_type": "code",
   "execution_count": null,
   "metadata": {},
   "outputs": [
    {
     "name": "stderr",
     "output_type": "stream",
     "text": [
      "/Users/amnon/git/calour/calour/heatmap/heatmap.py:308: MatplotlibDeprecationWarning: You are modifying the state of a globally registered colormap. This has been deprecated since 3.3 and in 3.6, you will not be able to modify a registered colormap in-place. To remove this warning, you can make a copy of the colormap first. cmap = mpl.cm.get_cmap(\"viridis\").copy()\n",
      "  cmap.set_bad(bad_color)\n"
     ]
    },
    {
     "name": "stdout",
     "output_type": "stream",
     "text": [
      "2022-05-23 10:18:20 INFO Getting dbBact annotations for 124 sequences, please wait...\n",
      "2022-05-23 10:18:25 INFO got 2028 annotations\n",
      "2022-05-23 10:18:25 INFO Got 9790 annotation-sequence pairs\n",
      "2022-05-23 10:18:25 INFO Added annotation data to experiment. Total 2028 annotations, 124 ASVs\n",
      "2022-05-23 10:18:26 INFO Found 1 experiments ([598]) matching current experiment - ignoring them.\n"
     ]
    }
   ],
   "source": [
    "cu.splot(dd,'pH.Saliva')"
   ]
  },
  {
   "cell_type": "code",
   "execution_count": null,
   "metadata": {},
   "outputs": [],
   "source": []
  }
 ],
 "metadata": {
  "kernelspec": {
   "display_name": "Python 3",
   "language": "python",
   "name": "python3"
  },
  "language_info": {
   "codemirror_mode": {
    "name": "ipython",
    "version": 3
   },
   "file_extension": ".py",
   "mimetype": "text/x-python",
   "name": "python",
   "nbconvert_exporter": "python",
   "pygments_lexer": "ipython3",
   "version": "3.9.5"
  }
 },
 "nbformat": 4,
 "nbformat_minor": 4
}
