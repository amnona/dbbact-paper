{
 "cells": [
  {
   "cell_type": "code",
   "execution_count": 1,
   "metadata": {},
   "outputs": [
    {
     "name": "stdout",
     "output_type": "stream",
     "text": [
      "failed to load logging config file\n"
     ]
    }
   ],
   "source": [
    "import calour as ca\n",
    "import calour_utils as cu"
   ]
  },
  {
   "cell_type": "code",
   "execution_count": 2,
   "metadata": {},
   "outputs": [],
   "source": [
    "import numpy as np\n",
    "import pandas as pd\n",
    "import matplotlib.pyplot as plt"
   ]
  },
  {
   "cell_type": "code",
   "execution_count": 3,
   "metadata": {},
   "outputs": [
    {
     "data": {
      "text/plain": [
       "'/Users/amnon/git/dbbact-paper/notebooks/bank-vole'"
      ]
     },
     "execution_count": 3,
     "metadata": {},
     "output_type": "execute_result"
    }
   ],
   "source": [
    "pwd"
   ]
  },
  {
   "cell_type": "code",
   "execution_count": 4,
   "metadata": {},
   "outputs": [],
   "source": [
    "ca.set_log_level(11)"
   ]
  },
  {
   "cell_type": "code",
   "execution_count": 5,
   "metadata": {},
   "outputs": [],
   "source": [
    "%matplotlib inline"
   ]
  },
  {
   "cell_type": "code",
   "execution_count": 6,
   "metadata": {},
   "outputs": [
    {
     "name": "stdout",
     "output_type": "stream",
     "text": [
      "creating logger\n"
     ]
    }
   ],
   "source": [
    "db=ca.database._get_database_class('dbbact')"
   ]
  },
  {
   "cell_type": "markdown",
   "metadata": {},
   "source": [
    "# Load the data\n",
    "### from:\n",
    "Lavrinienko, Anton, Eugene Tukalenko, Tapio Mappes, and Phillip C. Watts.\n",
    "\n",
    "\"Skin and gut microbiomes of a wild mammal respond to different environmental cues.\"\n",
    "\n",
    "Microbiome 6, no. 1 (2018): 1-16.\n",
    "\n",
    "https://doi.org/10.1186/s40168-018-0595-0"
   ]
  },
  {
   "cell_type": "code",
   "execution_count": 7,
   "metadata": {},
   "outputs": [
    {
     "name": "stdout",
     "output_type": "stream",
     "text": [
      "2022-07-01 14:38:39 INFO loaded 430 samples, 15454 features\n",
      "2022-07-01 14:38:40 WARNING These have metadata but do not have data - dropped (1): {'ERR2722536'}\n",
      "2022-07-01 14:38:40 WARNING Do you forget to normalize your data? It is required before running this function\n",
      "2022-07-01 14:38:40 INFO After filtering, 430 remain.\n"
     ]
    }
   ],
   "source": [
    "dat=ca.read_amplicon('./all.vole.biom',\n",
    "                    './map.vole.txt',\n",
    "                    min_reads=1000,\n",
    "                    normalize=10000)"
   ]
  },
  {
   "cell_type": "code",
   "execution_count": 8,
   "metadata": {},
   "outputs": [],
   "source": [
    "dat=cu.filter_16s(dat)"
   ]
  },
  {
   "cell_type": "code",
   "execution_count": 9,
   "metadata": {},
   "outputs": [
    {
     "name": "stdout",
     "output_type": "stream",
     "text": [
      "2022-07-01 14:38:40 INFO After filtering, 7696 remain.\n"
     ]
    }
   ],
   "source": [
    "datc=dat.cluster_features(10)"
   ]
  },
  {
   "cell_type": "markdown",
   "metadata": {},
   "source": [
    "# We will look at the skin samples"
   ]
  },
  {
   "cell_type": "code",
   "execution_count": 10,
   "metadata": {},
   "outputs": [],
   "source": [
    "skin=datc.filter_samples('sample_type','skin')"
   ]
  },
  {
   "cell_type": "markdown",
   "metadata": {},
   "source": [
    "# Compare the two collection locations"
   ]
  },
  {
   "cell_type": "code",
   "execution_count": 11,
   "metadata": {},
   "outputs": [
    {
     "name": "stdout",
     "output_type": "stream",
     "text": [
      "2022-07-01 14:38:49 INFO 155 samples with both values\n",
      "2022-07-01 14:38:49 INFO After filtering, 7551 remain.\n",
      "2022-07-01 14:38:49 INFO 46 samples with value 1 (['near Kyiv'])\n",
      "2022-07-01 14:38:55 INFO number of higher in near Kyiv: 327. number of higher in inside CEZ : 1203. total 1530\n"
     ]
    }
   ],
   "source": [
    "dd=skin.diff_abundance('loc2','near Kyiv','inside CEZ', random_seed=2022)"
   ]
  },
  {
   "cell_type": "code",
   "execution_count": 12,
   "metadata": {},
   "outputs": [
    {
     "name": "stdout",
     "output_type": "stream",
     "text": [
      "2022-07-01 14:38:55 INFO Getting dbBact annotations for 1530 sequences, please wait...\n",
      "2022-07-01 14:38:55 INFO Limited to maximal annotationid: 7440\n",
      "2022-07-01 14:39:03 INFO got 4813 annotations\n",
      "2022-07-01 14:39:03 WARNING ignoring 2 annotation with id > max_id 7440\n",
      "2022-07-01 14:39:03 INFO Got 55019 annotation-sequence pairs\n",
      "2022-07-01 14:39:03 INFO Added annotation data to experiment. Total 4811 annotations, 1530 ASVs\n",
      "2022-07-01 14:39:03 INFO Found 1 experiments ([423]) matching current experiment - ignoring them.\n",
      "2022-07-01 14:39:09 INFO found 7 negative\n",
      "2022-07-01 14:39:19 INFO found 7 positive\n"
     ]
    },
    {
     "data": {
      "image/png": "[encoded data removed]",
      "text/plain": [
       "<Figure size 432x288 with 1 Axes>"
      ]
     },
     "metadata": {
      "needs_background": "light"
     },
     "output_type": "display_data"
    }
   ],
   "source": [
    "f,e=dd.plot_diff_abundance_enrichment(ignore_exp=True,labels_kwargs={'family':'Arial','size':11},numbers_kwargs={'family':'arial','size':10,'weight':'bold','color':'white','style':'italic'}, max_id=7440,min_appearances=1,num_results_needed=7,max_show=7)\n",
    "ax=plt.gca()\n",
    "ax.set_aspect(1.0/ax.get_data_ratio()*1)\n",
    "ax.figure.tight_layout()\n"
   ]
  },
  {
   "cell_type": "code",
   "execution_count": 13,
   "metadata": {},
   "outputs": [],
   "source": [
    "f.figure.savefig('./fig-terms-location.pdf')"
   ]
  },
  {
   "cell_type": "code",
   "execution_count": 16,
   "metadata": {},
   "outputs": [
    {
     "name": "stdout",
     "output_type": "stream",
     "text": [
      "2022-06-26 15:00:09 INFO Metadata field taxonomy not found. Saving biom table without metadata\n"
     ]
    }
   ],
   "source": [
    "e.save('./table-terms-location')"
   ]
  },
  {
   "cell_type": "code",
   "execution_count": 17,
   "metadata": {},
   "outputs": [
    {
     "name": "stdout",
     "output_type": "stream",
     "text": [
      "2022-06-26 15:00:13 INFO Found 1 experiments ([423]) matching current experiment - ignoring them.\n",
      "2022-06-26 15:00:13 INFO found 69 annotations with the term ['plant']\n",
      "2022-06-26 15:00:30 INFO ignored 0 annotations\n",
      "2022-06-26 15:00:30 WARNING Clipped term circle size to 1000. Real size (number of term seqs not overlapping) should be: 8722\n"
     ]
    },
    {
     "data": {
      "image/png": "[encoded data removed]",
      "text/plain": [
       "<Figure size 432x288 with 1 Axes>"
      ]
     },
     "metadata": {},
     "output_type": "display_data"
    }
   ],
   "source": [
    "f=db.plot_term_venn_all('plant',dd,max_size=1000, ignore_exp=True,colors_alpha=0.8,label_kwargs={'color':'w','fontweight':'bold','fontsize':20},max_id=7440)"
   ]
  },
  {
   "cell_type": "code",
   "execution_count": 18,
   "metadata": {},
   "outputs": [],
   "source": [
    "f.savefig('./fig-venn-plant.pdf')"
   ]
  },
  {
   "cell_type": "code",
   "execution_count": null,
   "metadata": {},
   "outputs": [],
   "source": []
  }
 ],
 "metadata": {
  "kernelspec": {
   "display_name": "Python 3",
   "language": "python",
   "name": "python3"
  },
  "language_info": {
   "codemirror_mode": {
    "name": "ipython",
    "version": 3
   },
   "file_extension": ".py",
   "mimetype": "text/x-python",
   "name": "python",
   "nbconvert_exporter": "python",
   "pygments_lexer": "ipython3",
   "version": "3.9.5"
  }
 },
 "nbformat": 4,
 "nbformat_minor": 4
}
